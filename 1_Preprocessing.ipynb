{
  "cells": [
    {
      "cell_type": "markdown",
      "source": [
        "We install and import the necessary libraries."
      ],
      "metadata": {
        "id": "UDzwcCsnfZMC"
      },
      "id": "UDzwcCsnfZMC"
    },
    {
      "cell_type": "code",
      "execution_count": null,
      "id": "c8966d86",
      "metadata": {
        "id": "c8966d86"
      },
      "outputs": [],
      "source": [
        "!pip install pandas\n",
        "\n",
        "import pandas as pd\n",
        "import os\n",
        "import glob\n",
        "import re\n",
        "import string"
      ]
    },
    {
      "cell_type": "markdown",
      "source": [
        "We import the notes, which are originally in txt format. After changing the name of one of the columns, we get two columns: name and text."
      ],
      "metadata": {
        "id": "a0l0SGurffw-"
      },
      "id": "a0l0SGurffw-"
    },
    {
      "cell_type": "code",
      "execution_count": null,
      "id": "a7751f84",
      "metadata": {
        "id": "a7751f84"
      },
      "outputs": [],
      "source": [
        "\n",
        "notes_data = []\n",
        "\n",
        "folder_path = r'C:/Users/Cristina/Documents/CARMEN-I/txt/replaced/IA/'\n",
        "file_paths = glob.glob(folder_path + '*.txt')\n",
        "\n",
        "for file_path in file_paths:\n",
        "    try:\n",
        "        with open(file_path, 'r', encoding='utf-8') as file:\n",
        "            content = file.read()\n",
        "            filename = os.path.basename(file_path)\n",
        "            notes_data.append({'name': filename, 'text': content})\n",
        "    except FileNotFoundError:\n",
        "        print(\"File not found:\", file_path)\n",
        "\n",
        "df = pd.DataFrame(notes_data)\n",
        "\n",
        "df.rename(columns={'File Name': 'name'}, inplace=True)\n",
        "df['name'] = df['name'].str.replace('.txt', '')\n",
        "\n",
        "df"
      ]
    },
    {
      "cell_type": "markdown",
      "source": [
        "We upload the mappings of the languages, which are originally in a tsv file."
      ],
      "metadata": {
        "id": "KABv59otfuOG"
      },
      "id": "KABv59otfuOG"
    },
    {
      "cell_type": "code",
      "execution_count": null,
      "id": "e19e72eb",
      "metadata": {
        "id": "e19e72eb"
      },
      "outputs": [],
      "source": [
        "languages = pd.read_csv('C:/Users/Documents/CARMEN-I/mappings.tsv', delimiter='\\t')\n",
        "languages.rename(columns={'filename': 'name'}, inplace=True)"
      ]
    },
    {
      "cell_type": "markdown",
      "source": [
        "We merge df and languages dataframes. Now df dataframe has 3 columns: name, text and language."
      ],
      "metadata": {
        "id": "OP-3ETdYgFno"
      },
      "id": "OP-3ETdYgFno"
    },
    {
      "cell_type": "code",
      "execution_count": null,
      "id": "12a9b611",
      "metadata": {
        "id": "12a9b611"
      },
      "outputs": [],
      "source": [
        "df = pd.merge(df, languages[['name', 'language']], on='name', how='left')\n",
        "df"
      ]
    },
    {
      "cell_type": "markdown",
      "source": [
        "**Preparing Manual Labelling file**"
      ],
      "metadata": {
        "id": "vOmJ-SzcgLTv"
      },
      "id": "vOmJ-SzcgLTv"
    },
    {
      "cell_type": "markdown",
      "source": [
        "We create a dataframe for bilingual and catalan text notes uding the language identifier from the mappings."
      ],
      "metadata": {
        "id": "2Y7gNhAtgTM-"
      },
      "id": "2Y7gNhAtgTM-"
    },
    {
      "cell_type": "code",
      "execution_count": null,
      "id": "9e8c1251",
      "metadata": {
        "id": "9e8c1251"
      },
      "outputs": [],
      "source": [
        "catbi = ['bi', 'cat']\n",
        "cat_bi = df[df['language'].isin(catbi)]\n",
        "cat_bi"
      ]
    },
    {
      "cell_type": "markdown",
      "source": [
        "We create another one for Spanish text notes."
      ],
      "metadata": {
        "id": "68ZofKIhggyX"
      },
      "id": "68ZofKIhggyX"
    },
    {
      "cell_type": "code",
      "execution_count": null,
      "id": "0d395600",
      "metadata": {
        "id": "0d395600"
      },
      "outputs": [],
      "source": [
        "#I create a dataframe with a random selection of Spanish notes:\n",
        "es = df[df['language']=='es']\n",
        "es = es.sample(n=46)\n",
        "es = es.sort_index()\n",
        "es"
      ]
    },
    {
      "cell_type": "markdown",
      "source": [
        "We merge both dataframes and export them as an Excel file, which will be used for Comparison of the methods step (2)."
      ],
      "metadata": {
        "id": "m7fSpbGugoSX"
      },
      "id": "m7fSpbGugoSX"
    },
    {
      "cell_type": "code",
      "execution_count": null,
      "id": "d310d9b4",
      "metadata": {
        "id": "d310d9b4"
      },
      "outputs": [],
      "source": [
        "manual_analysis = pd.concat([cat_bi, es], ignore_index=True)\n",
        "manual = 'munual_labelling.xlsx'\n",
        "manual_analysis.to_excel(manual, index=False)"
      ]
    },
    {
      "cell_type": "markdown",
      "source": [
        "**Preparing Protected variable AGE file**"
      ],
      "metadata": {
        "id": "cRc7LE4dg4WX"
      },
      "id": "cRc7LE4dg4WX"
    },
    {
      "cell_type": "markdown",
      "source": [
        "We compare results looking for terms directly in the notes vs using the NER terms."
      ],
      "metadata": {
        "id": "p-W1hL3ihCRO"
      },
      "id": "p-W1hL3ihCRO"
    },
    {
      "cell_type": "markdown",
      "source": [
        "**1.** Reading \"años\", \"anys\" in notes to find age: Get the rows with references to age, and check the number of instances."
      ],
      "metadata": {
        "id": "wpttIsTDhOff"
      },
      "id": "wpttIsTDhOff"
    },
    {
      "cell_type": "code",
      "execution_count": null,
      "id": "eb9491ff",
      "metadata": {
        "id": "eb9491ff"
      },
      "outputs": [],
      "source": [
        "age_rows = df[df['text'].str.contains(r'\\baños\\b|\\banys\\b', na=False)]\n",
        "unique_name = age_rows['name'].nunique()\n",
        "unique_name"
      ]
    },
    {
      "cell_type": "markdown",
      "source": [
        "**2.** Using NER:"
      ],
      "metadata": {
        "id": "PUeUCtUFhcvv"
      },
      "id": "PUeUCtUFhcvv"
    },
    {
      "cell_type": "markdown",
      "source": [
        "We upload the anonymised terms."
      ],
      "metadata": {
        "id": "Pt929lArh9uh"
      },
      "id": "Pt929lArh9uh"
    },
    {
      "cell_type": "code",
      "execution_count": null,
      "id": "d42e5cb8",
      "metadata": {
        "id": "d42e5cb8"
      },
      "outputs": [],
      "source": [
        "text_anon = pd.read_csv('C:/Users/Cristina/Documents/MÀSTER/Applied Data Science Utrecht/Courses/THESIS/DATA CARMEN/carmen/CARMEN-I/tsv/replaced/CARMEN~1.TSV', sep='\\t')\n",
        "\n",
        "#only keep those rows with 'EDAD_SUJETO_ASISTENCIA':\n",
        "ages = text_anon[text_anon['tag']== 'EDAD_SUJETO_ASISTENCIA']\n",
        "agess = ages[ages['name'].str.contains(\"_IA_\")]\n",
        "\n",
        "#drop columns tag and span\n",
        "agess.drop(columns=['tag', 'span'], inplace=True)\n",
        "\n",
        "#merge with df\n",
        "ages_df = pd.merge(agess, df, on='name', how='inner')\n",
        "ages_df"
      ]
    },
    {
      "cell_type": "markdown",
      "source": [
        "We work with option 2) as it identifies better the ages. We create a new column, having 1 if it's older than 60, and 0 otherwise"
      ],
      "metadata": {
        "id": "p6EHARbdiTkf"
      },
      "id": "p6EHARbdiTkf"
    },
    {
      "cell_type": "code",
      "execution_count": null,
      "id": "58bb1481",
      "metadata": {
        "id": "58bb1481"
      },
      "outputs": [],
      "source": [
        "#Function to extract age\n",
        "def extract_age(text):\n",
        "    match = re.search(r'\\d+', text)\n",
        "    if match:\n",
        "        return int(match.group(0))\n",
        "    return None\n",
        "\n",
        "#We create a new column 'age' with the extracted age\n",
        "ages_df['age'] = ages_df['text_x'].apply(extract_age)\n",
        "\n",
        "#We create the column older with 1 for patients older than 60 (included), 0 otherwise.\n",
        "ages_df['older'] = ages_df['age'].apply(lambda x: 1 if x >= 60 else 0)\n",
        "ages_df"
      ]
    },
    {
      "cell_type": "markdown",
      "source": [
        "We export the Excel file, which will be used for the analysis of Protected variables Age."
      ],
      "metadata": {
        "id": "CCkwGCGOivqA"
      },
      "id": "CCkwGCGOivqA"
    },
    {
      "cell_type": "code",
      "execution_count": null,
      "id": "870acaaa",
      "metadata": {
        "id": "870acaaa"
      },
      "outputs": [],
      "source": [
        "ages_ex = 'ex_age.xlsx'\n",
        "ages_df.to_excel(ages_ex, index=False)"
      ]
    },
    {
      "cell_type": "markdown",
      "source": [
        "**Preparing protected variable GENDER file**"
      ],
      "metadata": {
        "id": "K0c_q5hJi6gg"
      },
      "id": "K0c_q5hJi6gg"
    },
    {
      "cell_type": "markdown",
      "source": [
        "Again, we compare results looking for terms directly in the notes (imputation) vs using the NER terms. Firstly, we make a copy of df names gender."
      ],
      "metadata": {
        "id": "bVpIyE-CjHzR"
      },
      "id": "bVpIyE-CjHzR"
    },
    {
      "cell_type": "code",
      "source": [
        "gender = df.copy()"
      ],
      "metadata": {
        "id": "c9LpZj0ajMQI"
      },
      "id": "c9LpZj0ajMQI",
      "execution_count": null,
      "outputs": []
    },
    {
      "cell_type": "markdown",
      "source": [
        "**1.** Imputation: We create regular expression patterns to look for masculine and feminine instances, and use them in a function to determine gender. The function is then applied to each text, and a column 'gender' is created with 1 for women and 0 for men."
      ],
      "metadata": {
        "id": "x0xz0ZFemxnD"
      },
      "id": "x0xz0ZFemxnD"
    },
    {
      "cell_type": "code",
      "execution_count": null,
      "id": "7401bd4c",
      "metadata": {
        "id": "7401bd4c"
      },
      "outputs": [],
      "source": [
        "#create regular expressions\n",
        "pattern_masculine = r'\\b(varón|varon|el\\s+paciente|home)\\b'\n",
        "pattern_feminine = r'\\b(mujer|la\\s+paciente)\\b'\n",
        "\n",
        "#determine gender based on text\n",
        "def determine_gender(text):\n",
        "    if re.search(pattern_masculine, text, flags=re.IGNORECASE):\n",
        "        return 0  # Masculine\n",
        "    elif re.search(pattern_feminine, text, flags=re.IGNORECASE):\n",
        "        return 1  # Feminine\n",
        "    else:\n",
        "        return None  # Gender not determined\n",
        "\n",
        "#apply the function to each row of the DataFrame\n",
        "gender['gender'] = gender['text'].apply(determine_gender)\n",
        "gender.dropna(subset=['gender'], inplace=True)\n",
        "gender"
      ]
    },
    {
      "cell_type": "markdown",
      "source": [
        "**2.** Using NER terms."
      ],
      "metadata": {
        "id": "94UNCNl7njcB"
      },
      "id": "94UNCNl7njcB"
    },
    {
      "cell_type": "code",
      "execution_count": null,
      "id": "d5de7fca",
      "metadata": {
        "id": "d5de7fca"
      },
      "outputs": [],
      "source": [
        "#only keep those rows with 'EDAD_SUJETO_ASISTENCIA':\n",
        "gender_ner = text_anon[text_anon['tag']== 'SEXO_SUJETO_ASISTENCIA']\n",
        "genderr = gender_ner[gender_ner['name'].str.contains(\"_IA_\")]\n",
        "\n",
        "#drop columns tag and span\n",
        "genderr.drop(columns=['tag', 'span'], inplace=True)\n",
        "\n",
        "#merge with\n",
        "gender_df = pd.merge(genderr, df, on='name', how='inner')\n",
        "gender_df"
      ]
    },
    {
      "cell_type": "markdown",
      "source": [
        "We use imputation as a method, as we get more instances. The excel file is exported, which is going to be used to assess bias to the protected variable gender."
      ],
      "metadata": {
        "id": "1ezDnnmYnp3K"
      },
      "id": "1ezDnnmYnp3K"
    },
    {
      "cell_type": "code",
      "execution_count": null,
      "id": "62dcee0e",
      "metadata": {
        "id": "62dcee0e"
      },
      "outputs": [],
      "source": [
        "gender_ex = 'ex_gender.xlsx'\n",
        "gender.to_excel(gender_ex, index=False)"
      ]
    },
    {
      "cell_type": "markdown",
      "source": [
        "**Preparing protected variable PERCEIVED SOCIOECONOMIC STATUS file**"
      ],
      "metadata": {
        "id": "_jdj9jNHn5a7"
      },
      "id": "_jdj9jNHn5a7"
    },
    {
      "cell_type": "markdown",
      "source": [
        "We use the NER terms Profesion for this task. We will associate each profesion to jobs that require high or low qualifications. From there, a perceived socioeconomic status by the medical staff can be inferred."
      ],
      "metadata": {
        "id": "4zm6RnZpn_27"
      },
      "id": "4zm6RnZpn_27"
    },
    {
      "cell_type": "code",
      "execution_count": null,
      "id": "2ab13b42",
      "metadata": {
        "id": "2ab13b42"
      },
      "outputs": [],
      "source": [
        "prof_ner = text_anon[text_anon['tag']== 'PROFESION']\n",
        "profesion = prof_ner[prof_ner['name'].str.contains(\"_IA_\")]\n",
        "\n",
        "#drop columns tag and span\n",
        "profesion.drop(columns=['tag', 'span'], inplace=True)\n",
        "\n",
        "#merge with df\n",
        "profesion_df = pd.merge(profesion, df, on='name', how='inner')\n",
        "profesion_df"
      ]
    },
    {
      "cell_type": "markdown",
      "source": [
        "We export the Excel file, where we will assess if the profesions require high or low qualification. Later, this file will be used to assess bias regarding perceived socioeconomic status."
      ],
      "metadata": {
        "id": "o-GUU7MHoVfh"
      },
      "id": "o-GUU7MHoVfh"
    },
    {
      "cell_type": "code",
      "execution_count": null,
      "id": "5712714a",
      "metadata": {
        "id": "5712714a"
      },
      "outputs": [],
      "source": [
        "profesions = 'ex_profesions.xlsx'\n",
        "profesion_df.to_excel(profesions, index=False)"
      ]
    }
  ],
  "metadata": {
    "kernelspec": {
      "display_name": "Python 3 (ipykernel)",
      "language": "python",
      "name": "python3"
    },
    "language_info": {
      "codemirror_mode": {
        "name": "ipython",
        "version": 3
      },
      "file_extension": ".py",
      "mimetype": "text/x-python",
      "name": "python",
      "nbconvert_exporter": "python",
      "pygments_lexer": "ipython3",
      "version": "3.9.13"
    },
    "colab": {
      "provenance": []
    }
  },
  "nbformat": 4,
  "nbformat_minor": 5
}